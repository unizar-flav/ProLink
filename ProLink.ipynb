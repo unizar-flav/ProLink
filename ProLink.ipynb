{
  "cells": [
    {
      "cell_type": "markdown",
      "metadata": {
      },
      "source": [
        " \n",
        "#<font color='yellow'>***/***</font> ***ProLink*** <font color='yellow'>***/***</font>  \n",
        "\n",
        "2022 @ *Universidad de Zaragoza*\n",
        "\n",
        "For more information please visit https://github.com/unizar-flav/ProLink\n",
        "\n",
        "\n"
      ]
    },
    {
      "cell_type": "code",
      "execution_count": null,
      "metadata": {
        "cellView": "form"
      },
      "outputs": [],
      "source": [
        "#@title Install environment\n",
        "#@markdown Run this cell first!\n",
        "%%capture\n",
        "\n",
        "import os\n",
        "\n",
        "!wget https://github.com/marbl/Mash/releases/download/v2.3/mash-Linux64-v2.3.tar \n",
        "!tar -xvf mash-Linux64-v2.3.tar \n",
        "\n",
        "!mv /content/mash-Linux64-v2.3 /content/mashdir\n",
        "os.environ['PATH'] += \":/content/mashdir\"\n",
        "\n",
        "!wget https://github.com/soedinglab/MMseqs2/releases/download/14-7e284/mmseqs-linux-avx2.tar.gz \n",
        "!tar -xzf mmseqs-linux-avx2.tar.gz \n",
        "os.environ['PATH'] += \":/content/mmseqs/bin\"\n",
        "\n",
        "!git clone https://github.com/unizar-flav/ALFATClust.git \n",
        "os.environ['PATH'] += \":/content/ALFATClust/main\"\n",
        "\n",
        "!wget https://github.com/rcedgar/muscle/releases/download/v5.1/muscle5.1.linux_intel64 \n",
        "!mv /content/muscle5.1.linux_intel64 /content/muscle\n",
        "!chmod +x /content/muscle\n",
        "os.environ['PATH'] += \":/content\"\n",
        "\n",
        "!apt-get update\n",
        "!apt-get install ghostscript\n",
        "\n",
        "!wget https://www.megasoftware.net/do_force_download/megax-cc_10.2.6-1_amd64.deb \n",
        "!apt-get remove -y --purge man-db \n",
        "!dpkg -i megax-cc_10.2.6-1_amd64.deb \n",
        "!apt --fix-broken install  \n",
        "\n",
        "!git clone https://github.com/unizar-flav/ProLink.git\n",
        "\n",
        "%pip install -r ProLink/requirements.txt\n",
        "\n",
        "from ProLink.Main import pro_link\n",
        "from google.colab import files"
      ]
    },
    {
      "cell_type": "code",
      "execution_count": null,
      "metadata": {
        "cellView": "form"
      },
      "outputs": [],
      "source": [
        "#@title Introduce the parameters { run: \"auto\" }\n",
        "\n",
        "import configparser\n",
        "\n",
        "config = configparser.ConfigParser()\n",
        "config.read(\"/content/ProLink/parameters.cfg\")\n",
        "\n",
        "parameters = {}\n",
        "for section in config.sections():\n",
        "    parameters[section] = {}\n",
        "    for option in config.options(section):\n",
        "        parameters[section][option] = config.get(section, option)\n",
        "\n",
        "\n",
        "#@markdown ----QUERY PROTEINS UNIPROT CODES----\n",
        "query_proteins = \"ABQ62066.1, ABQ62091.1, ABQ62490.1\" #@param {type:\"string\"}\n",
        "\n",
        "#@markdown ----BLAST PARAMETERS----\n",
        "hitlist_range = 5000 #@param {type:\"number\"}\n",
        "up = {'hitlist_range': hitlist_range}\n",
        "parameters['Blast'].update(up)\n",
        "\n",
        "blast_database = \"Reference Proteins (refseq_protein)\" #@param [\"Non redundant protein sequences (nr)\", \"Reference Proteins (refseq_protein)\", \"Model organisms (landmark)\", \"Protein Data Bank proteins (pdb)\"]\n",
        "blast_database = blast_database.split('(')[1].split(')')[0] # database name between parenthesis\n",
        "\n",
        "up = {'blast_database': blast_database}\n",
        "parameters['Blast'].update(up)\n",
        "\n",
        "smart_blast_ = False #@param {type:\"boolean\"}\n",
        "up = {'smart_blast_': smart_blast_}\n",
        "parameters['Blast'].update(up)\n",
        "\n",
        "#@markdown ----CLUSTERING----\n",
        "cluster_seqs = True #@param {type:\"boolean\"}\n",
        "up = {'cluster_seqs': cluster_seqs}\n",
        "parameters['Clustering'].update(up)\n",
        "\n",
        "similarity = 0.5 #@param {type:\"number\"} #Initial similarity treshold to group the sequences into clusters.\n",
        "up = {'similarity': similarity}\n",
        "parameters['Clustering'].update(up)\n",
        "\n",
        "smart_clustering_ = True #@param {type:\"boolean\"}\n",
        "up = {'smart_clustering_': smart_clustering_}\n",
        "parameters['Clustering'].update(up)\n",
        "\n",
        "#@markdown ----PFAM DOMAINS----\n",
        "check_pfam_domains = True #@param {type:\"boolean\"}\n",
        "up = {'check_pfam_domains': check_pfam_domains}\n",
        "parameters['Pfam domains'].update(up)\n",
        "\n",
        "#@markdown ----ALIGNMENT----\n",
        "align_seqs = True #@param {type:\"boolean\"}\n",
        "up = {'align_seqs': align_seqs}\n",
        "parameters['Alignment'].update(up)\n",
        "\n",
        "#@markdown ----SEQUENCE LOGO GENERATION----\n",
        "generate_logo = True #@param {type:\"boolean\"}\n",
        "up = {'generate_logo': generate_logo}\n",
        "parameters['Weblogo'].update(up)\n",
        "\n",
        "#@markdown ----PHYLOGENETIC TREE GENERATION----\n",
        "generate_tree = True #@param {type:\"boolean\"}\n",
        "up = {'generate_tree': generate_tree}\n",
        "parameters['Tree'].update(up)\n",
        "\n",
        "tree_type = \"NJ\" #@param [\"NJ\", \"ML\"]\n",
        "up = {'tree_type': tree_type}\n",
        "parameters['Tree'].update(up)\n",
        "\n",
        "#@markdown For more advanced options, please feel free to edit the ProLink/parameters.cfg file."
      ]
    },
    {
      "cell_type": "code",
      "execution_count": null,
      "metadata": {
        "cellView": "form"
      },
      "outputs": [],
      "source": [
        "#@title Execute the script\n",
        "#@markdown This may take a while\n",
        "\n",
        "from datetime import datetime\n",
        "\n",
        "now = str(datetime.now()).replace(\" \", \"_\")\n",
        "outputs_dir = \"outputs_\" + str(now)\n",
        "up = {'outputs_dir': outputs_dir}\n",
        "parameters['Outputs'].update(up)\n",
        "print(now)\n",
        "print(parameters)\n",
        "download_outputs = True #@param {type:\"boolean\"}\n",
        "\n",
        "pro_link(query_proteins, **parameters) \n",
        "\n",
        "if download_outputs:\n",
        "  downloadfile = \"/content/\" + str(outputs_dir)\n",
        "  output_filename = 'ProLink_'+str(outputs_dir)+'.zip'\n",
        "  os.system( \"zip -r {} {}\".format( output_filename , downloadfile ) )\n",
        "  files.download( output_filename )"
      ]
    },
    {
      "cell_type": "code",
      "execution_count": null,
      "metadata": {
        "cellView": "form"
      },
      "outputs": [],
      "source": [
        "#@title (Optional)  Download outputs manually { display-mode: \"form\" }\n",
        "#@markdown Copy the path of the file/directory below and run the cell to download.\n",
        "downloadfile = \"\" #@param {type: \"string\"}\n",
        "\n",
        "output_filename = 'ProLink_outputs.zip'\n",
        "os.system( \"zip -r {} {}\".format( output_filename , downloadfile ) )\n",
        "files.download( output_filename )"
      ]
    }
  ],
  "metadata": {
    "colab": {
      "provenance": []
    },
    "gpuClass": "standard",
    "kernelspec": {
      "display_name": "Python 3",
      "language": "python",
      "name": "python3"
    },
    "language_info": {
      "name": "python",
      "version": "3.10.6"
    }
  },
  "nbformat": 4,
  "nbformat_minor": 0
}
